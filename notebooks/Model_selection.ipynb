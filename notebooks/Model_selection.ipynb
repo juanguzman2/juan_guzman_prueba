{
 "cells": [
  {
   "cell_type": "code",
   "execution_count": 1,
   "metadata": {},
   "outputs": [],
   "source": [
    "import pandas as pd\n",
    "import numpy as np\n",
    "from pathlib import Path\n",
    "from sklearn.model_selection import train_test_split\n",
    "from sklearn.metrics import f1_score\n",
    "from sklearn.linear_model import LogisticRegression\n",
    "from sklearn.neighbors import KNeighborsClassifier\n",
    "from sklearn.tree import DecisionTreeClassifier\n",
    "from sklearn.ensemble import RandomForestClassifier, GradientBoostingClassifier, AdaBoostClassifier\n",
    "import mlflow\n",
    "import mlflow.sklearn\n",
    "from sklearn.model_selection import cross_val_score\n",
    "from sklearn.metrics import classification_report, confusion_matrix, roc_auc_score\n",
    "import os\n",
    "import sys"
   ]
  },
  {
   "cell_type": "code",
   "execution_count": 2,
   "metadata": {},
   "outputs": [
    {
     "data": {
      "text/plain": [
       "<Experiment: artifact_location='mlflow-artifacts:/418343190953855177', creation_time=1743867162970, experiment_id='418343190953855177', last_update_time=1743867162970, lifecycle_stage='active', name='modelo_clasificacion_var_rpta_alt', tags={}>"
      ]
     },
     "execution_count": 2,
     "metadata": {},
     "output_type": "execute_result"
    }
   ],
   "source": [
    "# ========================\n",
    "# 2. CONFIG MLflow\n",
    "# ========================\n",
    "mlflow.set_tracking_uri(\"http://127.0.0.1:5000\")\n",
    "mlflow.set_experiment(\"modelo_clasificacion_var_rpta_alt\")"
   ]
  },
  {
   "cell_type": "code",
   "execution_count": 3,
   "metadata": {},
   "outputs": [],
   "source": [
    "import os\n",
    "import sys\n",
    "\n",
    "# Obtener la ruta del directorio base (nivel superior del proyecto)\n",
    "BASE_DIR = os.path.abspath(os.path.join(os.getcwd(), \"..\"))\n",
    "SRC_PATH = os.path.join(BASE_DIR, \"src\")\n",
    "\n",
    "# Agregar SRC_PATH a sys.path si no está presente\n",
    "if SRC_PATH not in sys.path:\n",
    "    sys.path.insert(0, SRC_PATH)"
   ]
  },
  {
   "cell_type": "code",
   "execution_count": 4,
   "metadata": {},
   "outputs": [
    {
     "name": "stdout",
     "output_type": "stream",
     "text": [
      "Limpiando variables numéricas...\n",
      "Separando X e y...\n",
      "Detectando tipos de variables...\n",
      "Preprocesando variables...\n",
      "Transformando variables...\n",
      "Reconstruyendo nombres de columnas...\n",
      "Seleccionando variables...\n",
      "Ajustando columnas faltantes...\n",
      "Ordenando columnas...\n",
      "Finalizando DataFrame...\n"
     ]
    }
   ],
   "source": [
    "from data_engineer import FeatureSelector\n",
    "\n",
    "df = pd.read_csv(r\"..\\data\\raw\\prueba_op_base_pivot_var_rpta_alt_enmascarado_trtest.csv\")\n",
    "features = pd.read_csv(r'..\\data\\procesed\\features.csv')\n",
    "\n",
    "limpieza = FeatureSelector(df, features)\n",
    "df = limpieza.fit_transform()"
   ]
  },
  {
   "cell_type": "code",
   "execution_count": 5,
   "metadata": {},
   "outputs": [
    {
     "data": {
      "text/html": [
       "<div>\n",
       "<style scoped>\n",
       "    .dataframe tbody tr th:only-of-type {\n",
       "        vertical-align: middle;\n",
       "    }\n",
       "\n",
       "    .dataframe tbody tr th {\n",
       "        vertical-align: top;\n",
       "    }\n",
       "\n",
       "    .dataframe thead th {\n",
       "        text-align: right;\n",
       "    }\n",
       "</style>\n",
       "<table border=\"1\" class=\"dataframe\">\n",
       "  <thead>\n",
       "    <tr style=\"text-align: right;\">\n",
       "      <th></th>\n",
       "      <th>id</th>\n",
       "      <th>var_rpta_alt</th>\n",
       "      <th>marca_alternativa_No Acepta Alternativa</th>\n",
       "      <th>marca_alternativa_SIN_INFO</th>\n",
       "      <th>descripcion_ranking_mejor_ult_INTERESADO ALTERNATIVA</th>\n",
       "      <th>marca_alt_apli_SI</th>\n",
       "      <th>pagos_tanque_Sin pago</th>\n",
       "      <th>marca_pago_Sin pago</th>\n",
       "      <th>marca_agrupada_rgo_MANTENIMIENTO</th>\n",
       "      <th>promesas_cumplidas</th>\n",
       "      <th>...</th>\n",
       "      <th>valor_cuota_mes</th>\n",
       "      <th>pago_mes</th>\n",
       "      <th>cant_gestiones_binario</th>\n",
       "      <th>descripcion_ranking_post_ult_NO ACEPTA ALTERNATIVA</th>\n",
       "      <th>rango_mora_b.31-90</th>\n",
       "      <th>aplicativo_V</th>\n",
       "      <th>cant_gestiones</th>\n",
       "      <th>num_oblig_orig_enmascarado</th>\n",
       "      <th>nit_enmascarado</th>\n",
       "      <th>min_mora</th>\n",
       "    </tr>\n",
       "  </thead>\n",
       "  <tbody>\n",
       "    <tr>\n",
       "      <th>0</th>\n",
       "      <td>630611#219718#863073</td>\n",
       "      <td>1</td>\n",
       "      <td>0.0</td>\n",
       "      <td>0</td>\n",
       "      <td>0.0</td>\n",
       "      <td>1.0</td>\n",
       "      <td>1.0</td>\n",
       "      <td>1.0</td>\n",
       "      <td>0.0</td>\n",
       "      <td>-0.306304</td>\n",
       "      <td>...</td>\n",
       "      <td>0.085543</td>\n",
       "      <td>-0.126673</td>\n",
       "      <td>0.183695</td>\n",
       "      <td>0.0</td>\n",
       "      <td>1.0</td>\n",
       "      <td>1.0</td>\n",
       "      <td>0.516621</td>\n",
       "      <td>-1.015716</td>\n",
       "      <td>1.770990</td>\n",
       "      <td>0.742248</td>\n",
       "    </tr>\n",
       "    <tr>\n",
       "      <th>1</th>\n",
       "      <td>59412#789567#290775</td>\n",
       "      <td>1</td>\n",
       "      <td>0.0</td>\n",
       "      <td>0</td>\n",
       "      <td>0.0</td>\n",
       "      <td>1.0</td>\n",
       "      <td>1.0</td>\n",
       "      <td>1.0</td>\n",
       "      <td>1.0</td>\n",
       "      <td>-0.306304</td>\n",
       "      <td>...</td>\n",
       "      <td>-0.345952</td>\n",
       "      <td>-0.126673</td>\n",
       "      <td>0.183695</td>\n",
       "      <td>0.0</td>\n",
       "      <td>0.0</td>\n",
       "      <td>0.0</td>\n",
       "      <td>-0.918933</td>\n",
       "      <td>0.814605</td>\n",
       "      <td>-1.359317</td>\n",
       "      <td>-0.419785</td>\n",
       "    </tr>\n",
       "    <tr>\n",
       "      <th>2</th>\n",
       "      <td>277595#1045909#34433</td>\n",
       "      <td>1</td>\n",
       "      <td>0.0</td>\n",
       "      <td>0</td>\n",
       "      <td>0.0</td>\n",
       "      <td>0.0</td>\n",
       "      <td>1.0</td>\n",
       "      <td>1.0</td>\n",
       "      <td>0.0</td>\n",
       "      <td>-0.306304</td>\n",
       "      <td>...</td>\n",
       "      <td>2.996446</td>\n",
       "      <td>-0.126673</td>\n",
       "      <td>0.183695</td>\n",
       "      <td>0.0</td>\n",
       "      <td>1.0</td>\n",
       "      <td>0.0</td>\n",
       "      <td>0.676127</td>\n",
       "      <td>1.637960</td>\n",
       "      <td>-0.163622</td>\n",
       "      <td>0.354904</td>\n",
       "    </tr>\n",
       "    <tr>\n",
       "      <th>3</th>\n",
       "      <td>26897#585786#494556</td>\n",
       "      <td>1</td>\n",
       "      <td>0.0</td>\n",
       "      <td>0</td>\n",
       "      <td>0.0</td>\n",
       "      <td>1.0</td>\n",
       "      <td>0.0</td>\n",
       "      <td>0.0</td>\n",
       "      <td>1.0</td>\n",
       "      <td>-0.306304</td>\n",
       "      <td>...</td>\n",
       "      <td>-0.472363</td>\n",
       "      <td>-0.124356</td>\n",
       "      <td>0.183695</td>\n",
       "      <td>0.0</td>\n",
       "      <td>0.0</td>\n",
       "      <td>0.0</td>\n",
       "      <td>-0.839180</td>\n",
       "      <td>0.160073</td>\n",
       "      <td>-1.537507</td>\n",
       "      <td>-0.342316</td>\n",
       "    </tr>\n",
       "    <tr>\n",
       "      <th>4</th>\n",
       "      <td>24588#1061389#18953</td>\n",
       "      <td>1</td>\n",
       "      <td>0.0</td>\n",
       "      <td>0</td>\n",
       "      <td>0.0</td>\n",
       "      <td>0.0</td>\n",
       "      <td>1.0</td>\n",
       "      <td>1.0</td>\n",
       "      <td>0.0</td>\n",
       "      <td>-0.306304</td>\n",
       "      <td>...</td>\n",
       "      <td>-0.631972</td>\n",
       "      <td>-0.126673</td>\n",
       "      <td>0.183695</td>\n",
       "      <td>0.0</td>\n",
       "      <td>0.0</td>\n",
       "      <td>0.0</td>\n",
       "      <td>-0.918933</td>\n",
       "      <td>1.687681</td>\n",
       "      <td>-1.550161</td>\n",
       "      <td>-0.342316</td>\n",
       "    </tr>\n",
       "  </tbody>\n",
       "</table>\n",
       "<p>5 rows × 46 columns</p>\n",
       "</div>"
      ],
      "text/plain": [
       "                     id  var_rpta_alt  \\\n",
       "0  630611#219718#863073             1   \n",
       "1   59412#789567#290775             1   \n",
       "2  277595#1045909#34433             1   \n",
       "3   26897#585786#494556             1   \n",
       "4   24588#1061389#18953             1   \n",
       "\n",
       "   marca_alternativa_No Acepta Alternativa  marca_alternativa_SIN_INFO  \\\n",
       "0                                      0.0                           0   \n",
       "1                                      0.0                           0   \n",
       "2                                      0.0                           0   \n",
       "3                                      0.0                           0   \n",
       "4                                      0.0                           0   \n",
       "\n",
       "   descripcion_ranking_mejor_ult_INTERESADO ALTERNATIVA  marca_alt_apli_SI  \\\n",
       "0                                                0.0                   1.0   \n",
       "1                                                0.0                   1.0   \n",
       "2                                                0.0                   0.0   \n",
       "3                                                0.0                   1.0   \n",
       "4                                                0.0                   0.0   \n",
       "\n",
       "   pagos_tanque_Sin pago  marca_pago_Sin pago  \\\n",
       "0                    1.0                  1.0   \n",
       "1                    1.0                  1.0   \n",
       "2                    1.0                  1.0   \n",
       "3                    0.0                  0.0   \n",
       "4                    1.0                  1.0   \n",
       "\n",
       "   marca_agrupada_rgo_MANTENIMIENTO  promesas_cumplidas  ...  valor_cuota_mes  \\\n",
       "0                               0.0           -0.306304  ...         0.085543   \n",
       "1                               1.0           -0.306304  ...        -0.345952   \n",
       "2                               0.0           -0.306304  ...         2.996446   \n",
       "3                               1.0           -0.306304  ...        -0.472363   \n",
       "4                               0.0           -0.306304  ...        -0.631972   \n",
       "\n",
       "   pago_mes  cant_gestiones_binario  \\\n",
       "0 -0.126673                0.183695   \n",
       "1 -0.126673                0.183695   \n",
       "2 -0.126673                0.183695   \n",
       "3 -0.124356                0.183695   \n",
       "4 -0.126673                0.183695   \n",
       "\n",
       "   descripcion_ranking_post_ult_NO ACEPTA ALTERNATIVA  rango_mora_b.31-90  \\\n",
       "0                                                0.0                  1.0   \n",
       "1                                                0.0                  0.0   \n",
       "2                                                0.0                  1.0   \n",
       "3                                                0.0                  0.0   \n",
       "4                                                0.0                  0.0   \n",
       "\n",
       "   aplicativo_V  cant_gestiones  num_oblig_orig_enmascarado  nit_enmascarado  \\\n",
       "0           1.0        0.516621                   -1.015716         1.770990   \n",
       "1           0.0       -0.918933                    0.814605        -1.359317   \n",
       "2           0.0        0.676127                    1.637960        -0.163622   \n",
       "3           0.0       -0.839180                    0.160073        -1.537507   \n",
       "4           0.0       -0.918933                    1.687681        -1.550161   \n",
       "\n",
       "   min_mora  \n",
       "0  0.742248  \n",
       "1 -0.419785  \n",
       "2  0.354904  \n",
       "3 -0.342316  \n",
       "4 -0.342316  \n",
       "\n",
       "[5 rows x 46 columns]"
      ]
     },
     "execution_count": 5,
     "metadata": {},
     "output_type": "execute_result"
    }
   ],
   "source": [
    "df.head()"
   ]
  },
  {
   "cell_type": "code",
   "execution_count": 6,
   "metadata": {},
   "outputs": [
    {
     "name": "stdout",
     "output_type": "stream",
     "text": [
      "X_train: (340950, 44), y_train: (340950,)\n",
      "X_test: (227301, 44), y_test: (227301,)\n"
     ]
    }
   ],
   "source": [
    "# Separar features y target\n",
    "X = df.drop(columns=[\"var_rpta_alt\", \"id\"])\n",
    "y = df[\"var_rpta_alt\"]\n",
    "\n",
    "# Split 60% train / 40% test\n",
    "X_train, X_test, y_train, y_test = train_test_split(\n",
    "    X, y, test_size=0.4, random_state=42\n",
    ")\n",
    "\n",
    "print(f\"X_train: {X_train.shape}, y_train: {y_train.shape}\")\n",
    "print(f\"X_test: {X_test.shape}, y_test: {y_test.shape}\")"
   ]
  },
  {
   "cell_type": "code",
   "execution_count": 7,
   "metadata": {},
   "outputs": [],
   "source": [
    "# ========================\n",
    "# 4. MODELOS A ENTRENAR\n",
    "# ========================\n",
    "modelos = {\n",
    "    'LogisticRegression': LogisticRegression(max_iter=1000),\n",
    "    'KNeighborsClassifier': KNeighborsClassifier(),\n",
    "    'DecisionTreeClassifier': DecisionTreeClassifier(),\n",
    "    'RandomForestClassifier': RandomForestClassifier(),\n",
    "    'GradientBoostingClassifier': GradientBoostingClassifier(),\n",
    "    'AdaBoostClassifier': AdaBoostClassifier()\n",
    "}"
   ]
  },
  {
   "cell_type": "code",
   "execution_count": 8,
   "metadata": {},
   "outputs": [
    {
     "name": "stdout",
     "output_type": "stream",
     "text": [
      "var_rpta_alt\n",
      "0    0.519987\n",
      "1    0.480013\n",
      "Name: proportion, dtype: float64\n"
     ]
    }
   ],
   "source": [
    "print(y.value_counts(normalize=True))  # ¿Qué proporción hay de cada clase?\n"
   ]
  },
  {
   "cell_type": "code",
   "execution_count": 10,
   "metadata": {},
   "outputs": [
    {
     "data": {
      "text/plain": [
       "Index(['marca_alternativa_No Acepta Alternativa', 'marca_alternativa_SIN_INFO',\n",
       "       'descripcion_ranking_mejor_ult_INTERESADO ALTERNATIVA',\n",
       "       'marca_alt_apli_SI', 'pagos_tanque_Sin pago', 'marca_pago_Sin pago',\n",
       "       'marca_agrupada_rgo_MANTENIMIENTO', 'promesas_cumplidas',\n",
       "       'descripcion_ranking_mejor_ult_NO ACEPTA ACUERDO',\n",
       "       'desc_alternativa2_Sin alivio', 'cant_alter_posibles',\n",
       "       'descripcion_ranking_post_ult_PLAN DE COMPROMISO CUMPLIDO',\n",
       "       'desc_alternativa3_Sin alivio',\n",
       "       'descripcion_ranking_post_ult_ACEPTA ALTERNATIVA',\n",
       "       'descripcion_ranking_mejor_ult_ACEPTA ALTERNATIVA',\n",
       "       'alternativa_aplicada_agr_CONSOLIDACION',\n",
       "       'desc_alternativa2_Prorroga  ', 'marca_agrupada_rgo_MODIFICACIÓN',\n",
       "       'segmento_Personal', 'segmento_Personal plus', 'banca_Independientes',\n",
       "       'cant_acuerdo_binario', 'desc_alternativa3_Consolidación de pasivos',\n",
       "       'desc_alternativa1_Reestructuración novacion', 'porc_pago_mes',\n",
       "       'marca_pago_Pago parcial', 'rpc',\n",
       "       'desc_alternativa1_Prorroga más Ampliación de plazo',\n",
       "       'descripcion_ranking_post_ult_PLAN DE PAGO', 'dias_mora_fin',\n",
       "       'pago_cuota', 'alternativa_aplicada_agr_SIN_INFO', 'producto_ROTATIVOS',\n",
       "       'endeudamiento', 'valor_cuota_mes', 'pago_mes',\n",
       "       'cant_gestiones_binario',\n",
       "       'descripcion_ranking_post_ult_NO ACEPTA ALTERNATIVA',\n",
       "       'rango_mora_b.31-90', 'aplicativo_V', 'cant_gestiones',\n",
       "       'num_oblig_orig_enmascarado', 'nit_enmascarado', 'min_mora'],\n",
       "      dtype='object')"
      ]
     },
     "execution_count": 10,
     "metadata": {},
     "output_type": "execute_result"
    }
   ],
   "source": [
    "X.columns"
   ]
  },
  {
   "cell_type": "code",
   "execution_count": 11,
   "metadata": {},
   "outputs": [
    {
     "data": {
      "text/plain": [
       "False"
      ]
     },
     "execution_count": 11,
     "metadata": {},
     "output_type": "execute_result"
    }
   ],
   "source": [
    "a = ['marca_alternativa_No Acepta Alternativa', 'marca_alternativa_SIN_INFO',\n",
    "       'descripcion_ranking_mejor_ult_INTERESADO ALTERNATIVA',\n",
    "       'marca_alt_apli_SI', 'pagos_tanque_Sin pago', 'marca_pago_Sin pago',\n",
    "       'marca_agrupada_rgo_MANTENIMIENTO', 'promesas_cumplidas',\n",
    "       'descripcion_ranking_mejor_ult_NO ACEPTA ACUERDO',\n",
    "       'desc_alternativa2_Sin alivio', 'cant_alter_posibles',\n",
    "       'descripcion_ranking_post_ult_PLAN DE COMPROMISO CUMPLIDO',\n",
    "       'desc_alternativa3_Sin alivio',\n",
    "       'descripcion_ranking_post_ult_ACEPTA ALTERNATIVA',\n",
    "       'descripcion_ranking_mejor_ult_ACEPTA ALTERNATIVA',\n",
    "       'alternativa_aplicada_agr_CONSOLIDACION',\n",
    "       'desc_alternativa2_Prorroga  ', 'marca_agrupada_rgo_MODIFICACIÓN',\n",
    "       'segmento_Personal', 'segmento_Personal plus', 'banca_Independientes',\n",
    "       'cant_acuerdo_binario', 'desc_alternativa3_Consolidación de pasivos',\n",
    "       'desc_alternativa1_Reestructuración novacion', 'porc_pago_mes',\n",
    "       'marca_pago_Pago parcial', 'rpc',\n",
    "       'desc_alternativa1_Prorroga más Ampliación de plazo',\n",
    "       'descripcion_ranking_post_ult_PLAN DE PAGO', 'dias_mora_fin',\n",
    "       'pago_cuota', 'alternativa_aplicada_agr_SIN_INFO', 'producto_ROTATIVOS',\n",
    "       'endeudamiento', 'valor_cuota_mes', 'pago_mes',\n",
    "       'cant_gestiones_binario',\n",
    "       'descripcion_ranking_post_ult_NO ACEPTA ALTERNATIVA',\n",
    "       'rango_mora_b.31-90', 'aplicativo_V', 'cant_gestiones',\n",
    "       'num_oblig_orig_enmascarado', 'nit_enmascarado', 'min_mora']\n",
    "\n",
    "'id' in a"
   ]
  },
  {
   "cell_type": "code",
   "execution_count": 13,
   "metadata": {},
   "outputs": [
    {
     "data": {
      "text/plain": [
       "False"
      ]
     },
     "execution_count": 13,
     "metadata": {},
     "output_type": "execute_result"
    }
   ],
   "source": [
    "'id' in X_train.columns"
   ]
  },
  {
   "cell_type": "code",
   "execution_count": 9,
   "metadata": {},
   "outputs": [
    {
     "name": "stdout",
     "output_type": "stream",
     "text": [
      "\n",
      "Entrenando LogisticRegression...\n",
      "Cross-validated F1: 0.9867 ± 0.0005\n",
      "Confusion Matrix:\n",
      " [[117476   1017]\n",
      " [  1934 106874]]\n",
      "Classification Report:\n",
      "               precision    recall  f1-score   support\n",
      "\n",
      "           0       0.98      0.99      0.99    118493\n",
      "           1       0.99      0.98      0.99    108808\n",
      "\n",
      "    accuracy                           0.99    227301\n",
      "   macro avg       0.99      0.99      0.99    227301\n",
      "weighted avg       0.99      0.99      0.99    227301\n",
      "\n"
     ]
    },
    {
     "name": "stderr",
     "output_type": "stream",
     "text": [
      "2025/04/05 15:26:42 WARNING mlflow.models.model: Model logged without a signature and input example. Please set `input_example` parameter when logging the model to auto infer the model signature.\n"
     ]
    },
    {
     "name": "stdout",
     "output_type": "stream",
     "text": [
      "✅ LogisticRegression -> F1 score: 0.9864\n",
      "✅ LogisticRegression -> Precision: 0.9870\n",
      "✅ LogisticRegression -> Recall: 0.9870\n",
      "🏃 View run LogisticRegression at: http://127.0.0.1:5000/#/experiments/418343190953855177/runs/95e2a20448a5483197d39bb9d3653832\n",
      "🧪 View experiment at: http://127.0.0.1:5000/#/experiments/418343190953855177\n",
      "\n",
      "Entrenando KNeighborsClassifier...\n",
      "Cross-validated F1: 0.9818 ± 0.0004\n",
      "Confusion Matrix:\n",
      " [[117660    833]\n",
      " [  2882 105926]]\n",
      "Classification Report:\n",
      "               precision    recall  f1-score   support\n",
      "\n",
      "           0       0.98      0.99      0.98    118493\n",
      "           1       0.99      0.97      0.98    108808\n",
      "\n",
      "    accuracy                           0.98    227301\n",
      "   macro avg       0.98      0.98      0.98    227301\n",
      "weighted avg       0.98      0.98      0.98    227301\n",
      "\n"
     ]
    },
    {
     "name": "stderr",
     "output_type": "stream",
     "text": [
      "2025/04/05 15:37:31 WARNING mlflow.models.model: Model logged without a signature and input example. Please set `input_example` parameter when logging the model to auto infer the model signature.\n"
     ]
    },
    {
     "name": "stdout",
     "output_type": "stream",
     "text": [
      "✅ KNeighborsClassifier -> F1 score: 0.9828\n",
      "✅ KNeighborsClassifier -> Precision: 0.9836\n",
      "✅ KNeighborsClassifier -> Recall: 0.9836\n",
      "🏃 View run KNeighborsClassifier at: http://127.0.0.1:5000/#/experiments/418343190953855177/runs/a0ae7a428844429c828ba0d9d7e9832f\n",
      "🧪 View experiment at: http://127.0.0.1:5000/#/experiments/418343190953855177\n",
      "\n",
      "Entrenando DecisionTreeClassifier...\n",
      "Cross-validated F1: 0.9901 ± 0.0003\n",
      "Confusion Matrix:\n",
      " [[117421   1072]\n",
      " [  1010 107798]]\n",
      "Classification Report:\n",
      "               precision    recall  f1-score   support\n",
      "\n",
      "           0       0.99      0.99      0.99    118493\n",
      "           1       0.99      0.99      0.99    108808\n",
      "\n",
      "    accuracy                           0.99    227301\n",
      "   macro avg       0.99      0.99      0.99    227301\n",
      "weighted avg       0.99      0.99      0.99    227301\n",
      "\n"
     ]
    },
    {
     "name": "stderr",
     "output_type": "stream",
     "text": [
      "2025/04/05 15:38:05 WARNING mlflow.models.model: Model logged without a signature and input example. Please set `input_example` parameter when logging the model to auto infer the model signature.\n"
     ]
    },
    {
     "name": "stdout",
     "output_type": "stream",
     "text": [
      "✅ DecisionTreeClassifier -> F1 score: 0.9904\n",
      "✅ DecisionTreeClassifier -> Precision: 0.9908\n",
      "✅ DecisionTreeClassifier -> Recall: 0.9908\n",
      "🏃 View run DecisionTreeClassifier at: http://127.0.0.1:5000/#/experiments/418343190953855177/runs/7096c0b396494b328e8dc4267cea7b48\n",
      "🧪 View experiment at: http://127.0.0.1:5000/#/experiments/418343190953855177\n",
      "\n",
      "Entrenando RandomForestClassifier...\n",
      "Cross-validated F1: 0.9947 ± 0.0004\n",
      "Confusion Matrix:\n",
      " [[118252    241]\n",
      " [   923 107885]]\n",
      "Classification Report:\n",
      "               precision    recall  f1-score   support\n",
      "\n",
      "           0       0.99      1.00      1.00    118493\n",
      "           1       1.00      0.99      0.99    108808\n",
      "\n",
      "    accuracy                           0.99    227301\n",
      "   macro avg       1.00      0.99      0.99    227301\n",
      "weighted avg       0.99      0.99      0.99    227301\n",
      "\n"
     ]
    },
    {
     "name": "stderr",
     "output_type": "stream",
     "text": [
      "2025/04/05 15:44:31 WARNING mlflow.models.model: Model logged without a signature and input example. Please set `input_example` parameter when logging the model to auto infer the model signature.\n"
     ]
    },
    {
     "name": "stdout",
     "output_type": "stream",
     "text": [
      "✅ RandomForestClassifier -> F1 score: 0.9946\n",
      "✅ RandomForestClassifier -> Precision: 0.9949\n",
      "✅ RandomForestClassifier -> Recall: 0.9949\n",
      "🏃 View run RandomForestClassifier at: http://127.0.0.1:5000/#/experiments/418343190953855177/runs/175e04d0c5764dacabd1cfd8b99ce597\n",
      "🧪 View experiment at: http://127.0.0.1:5000/#/experiments/418343190953855177\n",
      "\n",
      "Entrenando GradientBoostingClassifier...\n",
      "Cross-validated F1: 0.9927 ± 0.0003\n",
      "Confusion Matrix:\n",
      " [[118039    454]\n",
      " [  1143 107665]]\n",
      "Classification Report:\n",
      "               precision    recall  f1-score   support\n",
      "\n",
      "           0       0.99      1.00      0.99    118493\n",
      "           1       1.00      0.99      0.99    108808\n",
      "\n",
      "    accuracy                           0.99    227301\n",
      "   macro avg       0.99      0.99      0.99    227301\n",
      "weighted avg       0.99      0.99      0.99    227301\n",
      "\n"
     ]
    },
    {
     "name": "stderr",
     "output_type": "stream",
     "text": [
      "2025/04/05 16:00:43 WARNING mlflow.models.model: Model logged without a signature and input example. Please set `input_example` parameter when logging the model to auto infer the model signature.\n"
     ]
    },
    {
     "name": "stdout",
     "output_type": "stream",
     "text": [
      "✅ GradientBoostingClassifier -> F1 score: 0.9926\n",
      "✅ GradientBoostingClassifier -> Precision: 0.9930\n",
      "✅ GradientBoostingClassifier -> Recall: 0.9930\n",
      "🏃 View run GradientBoostingClassifier at: http://127.0.0.1:5000/#/experiments/418343190953855177/runs/8f0aca13f6dc4304ae5126828f6279c9\n",
      "🧪 View experiment at: http://127.0.0.1:5000/#/experiments/418343190953855177\n",
      "\n",
      "Entrenando AdaBoostClassifier...\n",
      "Cross-validated F1: 0.9731 ± 0.0002\n",
      "Confusion Matrix:\n",
      " [[117542    951]\n",
      " [  4800 104008]]\n",
      "Classification Report:\n",
      "               precision    recall  f1-score   support\n",
      "\n",
      "           0       0.96      0.99      0.98    118493\n",
      "           1       0.99      0.96      0.97    108808\n",
      "\n",
      "    accuracy                           0.97    227301\n",
      "   macro avg       0.98      0.97      0.97    227301\n",
      "weighted avg       0.98      0.97      0.97    227301\n",
      "\n"
     ]
    },
    {
     "name": "stderr",
     "output_type": "stream",
     "text": [
      "2025/04/05 16:03:57 WARNING mlflow.models.model: Model logged without a signature and input example. Please set `input_example` parameter when logging the model to auto infer the model signature.\n"
     ]
    },
    {
     "name": "stdout",
     "output_type": "stream",
     "text": [
      "✅ AdaBoostClassifier -> F1 score: 0.9731\n",
      "✅ AdaBoostClassifier -> Precision: 0.9747\n",
      "✅ AdaBoostClassifier -> Recall: 0.9747\n",
      "🏃 View run AdaBoostClassifier at: http://127.0.0.1:5000/#/experiments/418343190953855177/runs/3e2645c71f5543f5b3fb1a9dfc0ff850\n",
      "🧪 View experiment at: http://127.0.0.1:5000/#/experiments/418343190953855177\n"
     ]
    }
   ],
   "source": [
    "# ========================\n",
    "# 5. ENTRENAMIENTO + MLFLOW\n",
    "# ========================\n",
    "for model_name, model in modelos.items():\n",
    "    with mlflow.start_run(run_name=model_name):\n",
    "        print(f\"\\nEntrenando {model_name}...\")\n",
    "\n",
    "        # Entrenamiento\n",
    "        model.fit(X_train, y_train)\n",
    "\n",
    "        # Predicción y métrica\n",
    "        y_pred = model.predict(X_test)\n",
    "        f1 = f1_score(y_test, y_pred)\n",
    "        # Dentro del loop\n",
    "        scores = cross_val_score(model, X_train, y_train, cv=5, scoring='f1')\n",
    "        print(f\"Cross-validated F1: {np.mean(scores):.4f} ± {np.std(scores):.4f}\")\n",
    "\n",
    "        # Confusion matrix\n",
    "        print(\"Confusion Matrix:\\n\", confusion_matrix(y_test, y_pred))\n",
    "        print(\"Classification Report:\\n\", classification_report(y_test, y_pred))\n",
    "\n",
    "        # Log en MLflow\n",
    "        mlflow.log_param(\"model_type\", model_name)\n",
    "        mlflow.log_metric(\"f1_score\", f1)\n",
    "        #muestrame la presicion y recall\n",
    "        precision = f1_score(y_test, y_pred, average='weighted')\n",
    "        recall = f1_score(y_test, y_pred, average='weighted')\n",
    "        mlflow.sklearn.log_model(model, model_name)\n",
    "\n",
    "        print(f\"✅ {model_name} -> F1 score: {f1:.4f}\")\n",
    "        print(f\"✅ {model_name} -> Precision: {precision:.4f}\")\n",
    "        print(f\"✅ {model_name} -> Recall: {recall:.4f}\")"
   ]
  }
 ],
 "metadata": {
  "kernelspec": {
   "display_name": "env",
   "language": "python",
   "name": "python3"
  },
  "language_info": {
   "codemirror_mode": {
    "name": "ipython",
    "version": 3
   },
   "file_extension": ".py",
   "mimetype": "text/x-python",
   "name": "python",
   "nbconvert_exporter": "python",
   "pygments_lexer": "ipython3",
   "version": "3.10.0"
  }
 },
 "nbformat": 4,
 "nbformat_minor": 2
}
