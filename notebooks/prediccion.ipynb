{
 "cells": [
  {
   "cell_type": "code",
   "execution_count": 1,
   "metadata": {},
   "outputs": [],
   "source": [
    "import pickle\n",
    "import pandas as pd\n",
    "# autoreload\n",
    "%load_ext autoreload\n",
    "%autoreload 2"
   ]
  },
  {
   "cell_type": "code",
   "execution_count": 2,
   "metadata": {},
   "outputs": [],
   "source": [
    "import os\n",
    "import sys\n",
    "\n",
    "# Obtener la ruta del directorio base (nivel superior del proyecto)\n",
    "BASE_DIR = os.path.abspath(os.path.join(os.getcwd(), \"..\"))\n",
    "SRC_PATH = os.path.join(BASE_DIR, \"src\")\n",
    "\n",
    "# Agregar SRC_PATH a sys.path si no está presente\n",
    "if SRC_PATH not in sys.path:\n",
    "    sys.path.insert(0, SRC_PATH)"
   ]
  },
  {
   "cell_type": "code",
   "execution_count": 3,
   "metadata": {},
   "outputs": [],
   "source": [
    "with open(r'..\\models\\RandomForestClassifier.pkl', 'rb') as archivo:\n",
    "    modelo = pickle.load(archivo)\n"
   ]
  },
  {
   "cell_type": "code",
   "execution_count": 4,
   "metadata": {},
   "outputs": [],
   "source": [
    "df_oot = pd.read_csv(r'..\\data\\raw\\prueba_op_base_pivot_var_rpta_alt_enmascarado_oot.csv')\n",
    "df_tr = pd.read_csv(r\"..\\data\\raw\\prueba_op_base_pivot_var_rpta_alt_enmascarado_trtest.csv\")\n",
    "features = pd.read_csv(r'..\\data\\procesed\\features.csv')\n",
    "\n",
    "df_oot['id'] = df_oot['nit_enmascarado'].astype(str) + '#' + df_oot['num_oblig_orig_enmascarado'].astype(str) + '#' + df_oot['num_oblig_enmascarado'].astype(str)\n",
    "df_tr['id'] = df_tr['nit_enmascarado'].astype(str) + '#' + df_tr['num_oblig_orig_enmascarado'].astype(str) + '#' + df_tr['num_oblig_enmascarado'].astype(str)\n",
    "\n",
    "df_tr = df_tr.drop_duplicates(subset='id', keep='first')\n",
    "df = pd.merge(df_oot, df_tr, on='id', how='left')"
   ]
  },
  {
   "cell_type": "code",
   "execution_count": 5,
   "metadata": {},
   "outputs": [
    {
     "name": "stdout",
     "output_type": "stream",
     "text": [
      "Limpiando variables numéricas...\n"
     ]
    },
    {
     "name": "stdout",
     "output_type": "stream",
     "text": [
      "Separando X e y...\n",
      "Detectando tipos de variables...\n",
      "Preprocesando variables...\n",
      "Transformando variables...\n",
      "Reconstruyendo nombres de columnas...\n",
      "Seleccionando variables...\n",
      "Ajustando columnas faltantes...\n",
      "Ordenando columnas...\n",
      "Finalizando DataFrame...\n"
     ]
    }
   ],
   "source": [
    "from data_engineer import FeatureSelector\n",
    "\n",
    "limpieza = FeatureSelector(df, features)\n",
    "df = limpieza.fit_transform()"
   ]
  },
  {
   "cell_type": "code",
   "execution_count": 6,
   "metadata": {},
   "outputs": [],
   "source": [
    "# 2. Seleccionar columnas que usó el modelo\n",
    "columnas_modelo = modelo.feature_names_in_\n",
    "X = df[columnas_modelo]\n",
    "\n",
    "# 3. Predecir\n",
    "predicciones = modelo.predict(X)\n",
    "\n",
    "# 4. Crear DataFrame final\n",
    "df_submission = pd.DataFrame({\n",
    "    'id': df['id'],\n",
    "    'var_rpta_alt': predicciones,\n",
    "    'var_rpta_alt_prob': modelo.predict_proba(X)[:, 1]\n",
    "})\n",
    "\n",
    "# 5. Guardar en CSV con el formato solicitado\n",
    "df_submission.to_csv('submission.csv', index=False)\n"
   ]
  },
  {
   "cell_type": "code",
   "execution_count": 7,
   "metadata": {},
   "outputs": [
    {
     "data": {
      "text/html": [
       "<div>\n",
       "<style scoped>\n",
       "    .dataframe tbody tr th:only-of-type {\n",
       "        vertical-align: middle;\n",
       "    }\n",
       "\n",
       "    .dataframe tbody tr th {\n",
       "        vertical-align: top;\n",
       "    }\n",
       "\n",
       "    .dataframe thead th {\n",
       "        text-align: right;\n",
       "    }\n",
       "</style>\n",
       "<table border=\"1\" class=\"dataframe\">\n",
       "  <thead>\n",
       "    <tr style=\"text-align: right;\">\n",
       "      <th></th>\n",
       "      <th>id</th>\n",
       "      <th>var_rpta_alt</th>\n",
       "      <th>var_rpta_alt_prob</th>\n",
       "    </tr>\n",
       "  </thead>\n",
       "  <tbody>\n",
       "    <tr>\n",
       "      <th>0</th>\n",
       "      <td>257335#444821#635511</td>\n",
       "      <td>1</td>\n",
       "      <td>0.89</td>\n",
       "    </tr>\n",
       "    <tr>\n",
       "      <th>1</th>\n",
       "      <td>59584#350400#730364</td>\n",
       "      <td>1</td>\n",
       "      <td>0.89</td>\n",
       "    </tr>\n",
       "    <tr>\n",
       "      <th>2</th>\n",
       "      <td>397604#973821#106521</td>\n",
       "      <td>1</td>\n",
       "      <td>1.00</td>\n",
       "    </tr>\n",
       "    <tr>\n",
       "      <th>3</th>\n",
       "      <td>368086#382995#696856</td>\n",
       "      <td>1</td>\n",
       "      <td>1.00</td>\n",
       "    </tr>\n",
       "    <tr>\n",
       "      <th>4</th>\n",
       "      <td>255009#434238#645924</td>\n",
       "      <td>1</td>\n",
       "      <td>0.51</td>\n",
       "    </tr>\n",
       "    <tr>\n",
       "      <th>...</th>\n",
       "      <td>...</td>\n",
       "      <td>...</td>\n",
       "      <td>...</td>\n",
       "    </tr>\n",
       "    <tr>\n",
       "      <th>112544</th>\n",
       "      <td>316499#14503#1074624</td>\n",
       "      <td>1</td>\n",
       "      <td>0.96</td>\n",
       "    </tr>\n",
       "    <tr>\n",
       "      <th>112545</th>\n",
       "      <td>254311#30479#1013957</td>\n",
       "      <td>1</td>\n",
       "      <td>0.51</td>\n",
       "    </tr>\n",
       "    <tr>\n",
       "      <th>112546</th>\n",
       "      <td>483193#13732#1006779</td>\n",
       "      <td>1</td>\n",
       "      <td>0.89</td>\n",
       "    </tr>\n",
       "    <tr>\n",
       "      <th>112547</th>\n",
       "      <td>293824#22004#1062743</td>\n",
       "      <td>1</td>\n",
       "      <td>0.93</td>\n",
       "    </tr>\n",
       "    <tr>\n",
       "      <th>112548</th>\n",
       "      <td>310206#28886#885408</td>\n",
       "      <td>1</td>\n",
       "      <td>0.89</td>\n",
       "    </tr>\n",
       "  </tbody>\n",
       "</table>\n",
       "<p>112549 rows × 3 columns</p>\n",
       "</div>"
      ],
      "text/plain": [
       "                          id  var_rpta_alt  var_rpta_alt_prob\n",
       "0       257335#444821#635511             1               0.89\n",
       "1        59584#350400#730364             1               0.89\n",
       "2       397604#973821#106521             1               1.00\n",
       "3       368086#382995#696856             1               1.00\n",
       "4       255009#434238#645924             1               0.51\n",
       "...                      ...           ...                ...\n",
       "112544  316499#14503#1074624             1               0.96\n",
       "112545  254311#30479#1013957             1               0.51\n",
       "112546  483193#13732#1006779             1               0.89\n",
       "112547  293824#22004#1062743             1               0.93\n",
       "112548   310206#28886#885408             1               0.89\n",
       "\n",
       "[112549 rows x 3 columns]"
      ]
     },
     "execution_count": 7,
     "metadata": {},
     "output_type": "execute_result"
    }
   ],
   "source": [
    "df_submission"
   ]
  }
 ],
 "metadata": {
  "kernelspec": {
   "display_name": "env",
   "language": "python",
   "name": "python3"
  },
  "language_info": {
   "codemirror_mode": {
    "name": "ipython",
    "version": 3
   },
   "file_extension": ".py",
   "mimetype": "text/x-python",
   "name": "python",
   "nbconvert_exporter": "python",
   "pygments_lexer": "ipython3",
   "version": "3.10.0"
  }
 },
 "nbformat": 4,
 "nbformat_minor": 2
}
