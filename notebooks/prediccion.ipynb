{
 "cells": [
  {
   "cell_type": "code",
   "execution_count": 48,
   "metadata": {},
   "outputs": [
    {
     "name": "stdout",
     "output_type": "stream",
     "text": [
      "The autoreload extension is already loaded. To reload it, use:\n",
      "  %reload_ext autoreload\n"
     ]
    }
   ],
   "source": [
    "import pickle\n",
    "import pandas as pd\n",
    "# autoreload\n",
    "%load_ext autoreload\n",
    "%autoreload 2"
   ]
  },
  {
   "cell_type": "code",
   "execution_count": 61,
   "metadata": {},
   "outputs": [],
   "source": [
    "import os\n",
    "import sys\n",
    "\n",
    "# Obtener la ruta del directorio base (nivel superior del proyecto)\n",
    "BASE_DIR = os.path.abspath(os.path.join(os.getcwd(), \"..\"))\n",
    "SRC_PATH = os.path.join(BASE_DIR, \"src\")\n",
    "\n",
    "# Agregar SRC_PATH a sys.path si no está presente\n",
    "if SRC_PATH not in sys.path:\n",
    "    sys.path.insert(0, SRC_PATH)"
   ]
  },
  {
   "cell_type": "code",
   "execution_count": 50,
   "metadata": {},
   "outputs": [],
   "source": [
    "with open(r'..\\models\\Best_Model_RF.pkl', 'rb') as archivo:\n",
    "    modelo = pickle.load(archivo)\n"
   ]
  },
  {
   "cell_type": "code",
   "execution_count": null,
   "metadata": {},
   "outputs": [],
   "source": [
    "# Importar librerías necesarias\n",
    "import pandas as pd\n",
    "\n",
    "# Cargar datasets\n",
    "df_tr = pd.read_csv(r\"..\\data\\raw\\prueba_op_base_pivot_var_rpta_alt_enmascarado_trtest.csv\")[[\n",
    "    'nit_enmascarado', 'num_oblig_orig_enmascarado', 'num_oblig_enmascarado', 'var_rpta_alt'\n",
    "]]\n",
    "df_hist_scores = pd.read_csv(r\"..\\data\\raw\\prueba_op_probabilidad_oblig_base_hist_enmascarado_completa.csv\")\n",
    "df_clientes = pd.read_csv(r\"..\\data\\raw\\prueba_op_master_customer_data_enmascarado_completa.csv\")\n",
    "df_pagos = pd.read_csv(r\"..\\data\\raw\\prueba_op_maestra_cuotas_pagos_mes_hist_enmascarado_completa.csv\")\n",
    "\n",
    "# Ajustar formato de 'fecha_corte' en df_pagos y df_clientes\n",
    "df_pagos['fecha_corte'] = df_pagos['fecha_corte'].astype(str).str[:6].astype(int)\n",
    "df_clientes['fecha_corte'] = df_clientes['year'].astype(str) + df_clientes['month'].astype(str).str.zfill(2)\n",
    "\n",
    "# Ordenar y eliminar duplicados en df_hist_scores\n",
    "df_hist_scores.sort_values(by=['fecha_corte'], ascending=False, inplace=True)\n",
    "df_hist_scores.drop_duplicates(subset=['nit_enmascarado'], keep='first', inplace=True)\n",
    "\n",
    "# Ordenar y eliminar duplicados en df_clientes\n",
    "df_clientes.sort_values(by=['fecha_corte'], ascending=False, inplace=True)\n",
    "df_clientes.drop_duplicates(subset=['nit_enmascarado'], keep='first', inplace=True)\n",
    "\n",
    "# Ordenar y eliminar duplicados en df_pagos\n",
    "df_pagos.sort_values(by=['fecha_corte'], ascending=False, inplace=True)\n",
    "df_pagos.drop_duplicates(subset=['nit_enmascarado'], keep='first', inplace=True)\n",
    "\n",
    "df_oot = pd.read_csv(r'..\\data\\raw\\prueba_op_base_pivot_var_rpta_alt_enmascarado_oot.csv')\n",
    "\n",
    "df_test = pd.merge(\n",
    "    df_oot, df_clientes, \n",
    "    on=['nit_enmascarado'], \n",
    "    how='left'\n",
    ")\n",
    "df_test = pd.merge(\n",
    "    df_test, df_pagos, \n",
    "    on=['nit_enmascarado'], \n",
    "    how='left'\n",
    ")\n",
    "\n",
    "df_test = pd.merge(\n",
    "    df_test, df_hist_scores, \n",
    "    on=['nit_enmascarado'], \n",
    "    how='left'\n",
    ")\n",
    "\n",
    "df_test['id'] = df_test['nit_enmascarado'].astype(str) + '#' + df_test['num_oblig_orig_enmascarado'].astype(str) + '#' + df_test['num_oblig_enmascarado'].astype(str)\n",
    "df_test.drop_duplicates(subset=['id'], keep='first', inplace=True)"
   ]
  },
  {
   "cell_type": "code",
   "execution_count": 55,
   "metadata": {},
   "outputs": [
    {
     "name": "stdout",
     "output_type": "stream",
     "text": [
      "Limpiando variables numéricas...\n"
     ]
    },
    {
     "name": "stderr",
     "output_type": "stream",
     "text": [
      "d:\\Desktop\\juan_guzman_prueba\\env\\lib\\site-packages\\pandas\\core\\nanops.py:1256: RuntimeWarning: invalid value encountered in subtract\n",
      "  adjusted = values - mean\n"
     ]
    },
    {
     "name": "stdout",
     "output_type": "stream",
     "text": [
      "Modo inferencia: No se encontró 'var_rpta_alt'\n",
      "Detectando tipos de variables...\n",
      "Preprocesando variables...\n",
      "Transformando variables...\n",
      "Reconstruyendo nombres de columnas...\n",
      "Seleccionando variables...\n",
      "Ajustando columnas faltantes...\n",
      "Ordenando columnas...\n",
      "Finalizando DataFrame...\n"
     ]
    }
   ],
   "source": [
    "from data_engineer import FeatureSelector\n",
    "\n",
    "limpieza = FeatureSelector(df_test, features)\n",
    "df = limpieza.fit_transform()"
   ]
  },
  {
   "cell_type": "code",
   "execution_count": 56,
   "metadata": {},
   "outputs": [],
   "source": [
    "# 2. Seleccionar columnas que usó el modelo\n",
    "columnas_modelo = modelo.feature_names_in_\n",
    "X = df[columnas_modelo]\n",
    "\n",
    "# 3. Predecir\n",
    "predicciones = modelo.predict(X)\n",
    "\n",
    "# 4. Crear DataFrame final\n",
    "df_submission = pd.DataFrame({\n",
    "    'id': df['id'],\n",
    "    'var_rpta_alt': predicciones,\n",
    "    'var_rpta_alt_prob': modelo.predict_proba(X)[:, 1]\n",
    "})\n",
    "\n",
    "# 5. Guardar en CSV con el formato solicitado\n",
    "df_submission.to_csv('submission.csv', index=False)\n"
   ]
  }
 ],
 "metadata": {
  "kernelspec": {
   "display_name": "env",
   "language": "python",
   "name": "python3"
  },
  "language_info": {
   "codemirror_mode": {
    "name": "ipython",
    "version": 3
   },
   "file_extension": ".py",
   "mimetype": "text/x-python",
   "name": "python",
   "nbconvert_exporter": "python",
   "pygments_lexer": "ipython3",
   "version": "3.10.0"
  }
 },
 "nbformat": 4,
 "nbformat_minor": 2
}
